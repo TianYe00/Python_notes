{
 "cells": [
  {
   "cell_type": "markdown",
   "metadata": {},
   "source": [
    "# Linear Regression"
   ]
  },
  {
   "cell_type": "markdown",
   "metadata": {},
   "source": [
    "Prepare the overall environment."
   ]
  },
  {
   "cell_type": "code",
   "execution_count": 7,
   "metadata": {
    "collapsed": false
   },
   "outputs": [],
   "source": [
    "import numpy as np\n",
    "import pandas as pd\n",
    "from pandas import Series, DataFrame\n",
    "import matplotlib.pyplot as plt\n",
    "# Minimize the function\n",
    "from scipy.optimize import fmin_bfgs\n",
    "# Fit the regularized logistic regression\n",
    "from sklearn.linear_model import LogisticRegression\n",
    "# Load .mat file\n",
    "import scipy.io as sio\n",
    "# This allows plots to appear directly in the notebook\n",
    "import requests\n",
    "import StringIO\n",
    "import zipfile\n",
    "import scipy.stats \n",
    "%matplotlib inline"
   ]
  },
  {
   "cell_type": "markdown",
   "metadata": {},
   "source": [
    "## Linear regression with one variable"
   ]
  },
  {
   "cell_type": "markdown",
   "metadata": {},
   "source": [
    "In this part of this exercise, you will implement linear regression with one\n",
    "variable to predict profits for a food truck. Suppose you are the CEO of a\n",
    "restaurant franchise and are considering different cities for opening a new\n",
    "outlet. The chain already has trucks in various cities and you have data for\n",
    "profits and populations from the cities.\n",
    "\n",
    "You would like to use this data to help you select which city to expand\n",
    "to next.\n",
    "\n",
    "The file ex1data1.txt contains the dataset for our linear regression problem. The first column is the population of a city and the second column is the profit of a food truck in that city. A negative value for pro\f",
    "t indicates a loss."
   ]
  },
  {
   "cell_type": "markdown",
   "metadata": {},
   "source": [
    "#### Prepare the data"
   ]
  },
  {
   "cell_type": "code",
   "execution_count": 16,
   "metadata": {
    "collapsed": false
   },
   "outputs": [],
   "source": [
    "data1 = pd.read_csv('https://raw.githubusercontent.com/TianYe00/Machine_Learning_exercises/master/ex1data1.txt',\n",
    "                    header = None)\n",
    "data1.columns = ['x', 'y']\n",
    "m = data1.shape[0]    #fastest method to get the number of rows"
   ]
  },
  {
   "cell_type": "markdown",
   "metadata": {},
   "source": [
    "#### Scatter plot of `data1`"
   ]
  },
  {
   "cell_type": "code",
   "execution_count": 20,
   "metadata": {
    "collapsed": false
   },
   "outputs": [
    {
     "data": {
      "text/plain": [
       "<matplotlib.text.Text at 0x10e868310>"
      ]
     },
     "execution_count": 20,
     "metadata": {},
     "output_type": "execute_result"
    },
    {
     "data": {
      "image/png": "[encoded data removed]",
      "text/plain": [
       "<matplotlib.figure.Figure at 0x10ed5f310>"
      ]
     },
     "metadata": {},
     "output_type": "display_data"
    }
   ],
   "source": [
    "fig = plt.figure()\n",
    "ax = fig.add_subplot(1,1,1)\n",
    "ax.scatter(data1['x'], data1['y'])\n",
    "ax.set_xlabel('Population of City in 10,000s')\n",
    "ax.set_ylabel('Profit in $10,000s')"
   ]
  },
  {
   "cell_type": "markdown",
   "metadata": {},
   "source": [
    "#### Three methods to do linear regression"
   ]
  },
  {
   "cell_type": "code",
   "execution_count": null,
   "metadata": {
    "collapsed": false
   },
   "outputs": [],
   "source": [
    "#First method\n",
    "import statsmodels.formula.api as smf\n",
    "lm1 = smf.ols(formula='y ~ x', data = data1).fit()\n",
    "lm1.params\n",
    "lm1.summary\n",
    "#Second method\n",
    "from sklearn.linear_model import LinearRegression\n",
    "lm2 = LinearRegression(fit_intercept=True).fit(data1['x'].reshape(97,1),data1['y'].reshape(97,1))  \n",
    "#Notice that data1['x'].shap is (97,) and this function require (97,1)\n",
    "lm2.coef_\n",
    "lm2.intercept_\n",
    "\n",
    "#When the column rank of x is not full, then we use patsy.dmatrics to get design matrix.\n",
    "from patsy import dmatrices\n",
    "y, x = dmatrices('y ~ x', data1)\n",
    "betas = np.linalg.lstsq(y, x)"
   ]
  },
  {
   "cell_type": "markdown",
   "metadata": {},
   "source": [
    "#### Gradient descent"
   ]
  },
  {
   "cell_type": "markdown",
   "metadata": {},
   "source": [
    "Define the function `gradient_descent` to do gradient descent."
   ]
  },
  {
   "cell_type": "code",
   "execution_count": null,
   "metadata": {
    "collapsed": false
   },
   "outputs": [],
   "source": [
    "def gradient_descent(alpha, x, y, numIterations, thres = 0.001):\n",
    "    m = x.shape[0] # number of samples\n",
    "    theta = np.ones(x.shape[1])\n",
    "    J1 = 0.\n",
    "    J2 = 100.\n",
    "    for iter in range(0, numIterations):\n",
    "        if abs(J2 - J1) < thres:\n",
    "            break\n",
    "        J2 = J1\n",
    "        hypothesis = np.dot(x, theta)\n",
    "        loss = hypothesis - y\n",
    "        J1 = np.sum(loss ** 2) / (2 * m)  # cost\n",
    "        print \"iter %s | J: %.3f\" % (iter, J1)      \n",
    "        gradient = np.dot(x.T, loss) / m         \n",
    "        theta = theta - alpha * gradient  # update\n",
    "    return theta"
   ]
  },
  {
   "cell_type": "markdown",
   "metadata": {},
   "source": [
    "Execute gradient descent to compute the coefficients."
   ]
  },
  {
   "cell_type": "code",
   "execution_count": null,
   "metadata": {
    "collapsed": false
   },
   "outputs": [],
   "source": [
    "x = np.c_[np.ones(m), data1['x'].reshape(97,1)]\n",
    "y = data1['y']\n",
    "theta = gradient_descent(0.01, x, y, 1000)  \n",
    "#or theta = gradient_descent(alpha=0.01, x = x0, y = y0, numIterations=1000)"
   ]
  },
  {
   "cell_type": "markdown",
   "metadata": {},
   "source": [
    "## Linear regression with multiple variables"
   ]
  },
  {
   "cell_type": "markdown",
   "metadata": {},
   "source": [
    "In this part, you will implement linear regression with multiple variables to\n",
    "predict the prices of houses. Suppose you are selling your house and you\n",
    "want to know what a good market price would be. One way to do this is to\n",
    "first collect information on recent houses sold and make a model of housing\n",
    "prices.\n",
    "\n",
    "The file ex1data2.txt contains a training set of housing prices in Port-\n",
    "land, Oregon. The first column is the size of the house (in square feet), the\n",
    "second column is the number of bedrooms, and the third column is the price\n",
    "of the house."
   ]
  },
  {
   "cell_type": "markdown",
   "metadata": {},
   "source": [
    "#### Prepare the data"
   ]
  },
  {
   "cell_type": "code",
   "execution_count": null,
   "metadata": {
    "collapsed": false
   },
   "outputs": [],
   "source": [
    "data2 = pd.read_csv('https://raw.githubusercontent.com/TianYe00/Machine_Learning_exercises/master/ex1data2.txt',\n",
    "                    header = None)\n",
    "data2.columns = ['x1','x2','y']\n",
    "m = data2.shape[0]\n",
    "data2 = data2.astype(np.float64) #Normally when data type is int, we transform it to float for following analysis."
   ]
  },
  {
   "cell_type": "markdown",
   "metadata": {},
   "source": [
    "#### Feature normalization"
   ]
  },
  {
   "cell_type": "code",
   "execution_count": null,
   "metadata": {
    "collapsed": false
   },
   "outputs": [],
   "source": [
    "from sklearn import preprocessing\n",
    "x_norm = preprocessing.scale(data2[['x1','x2']], axis = 0)"
   ]
  },
  {
   "cell_type": "markdown",
   "metadata": {},
   "source": [
    "#### Gradient descent"
   ]
  },
  {
   "cell_type": "code",
   "execution_count": null,
   "metadata": {
    "collapsed": false
   },
   "outputs": [],
   "source": [
    "x = np.c_[np.ones(m), x_norm]\n",
    "y = data2['y']\n",
    "theta2 = gradient_descent(0.02, x, y, 1000)  "
   ]
  },
  {
   "cell_type": "markdown",
   "metadata": {},
   "source": [
    "#### Normal Equation"
   ]
  },
  {
   "cell_type": "markdown",
   "metadata": {},
   "source": [
    "$\\theta = (X^{T}X)^{-1}X^{T}y$"
   ]
  },
  {
   "cell_type": "code",
   "execution_count": null,
   "metadata": {
    "collapsed": false
   },
   "outputs": [],
   "source": [
    "theta = inv(np.dot(x.T, x)).dot(x.T).dot(y)"
   ]
  },
  {
   "cell_type": "markdown",
   "metadata": {},
   "source": [
    "#### Prediction"
   ]
  },
  {
   "cell_type": "markdown",
   "metadata": {},
   "source": [
    "When we do prediction at $x^{new}$, we should do the same normalization on it."
   ]
  },
  {
   "cell_type": "markdown",
   "metadata": {},
   "source": [
    "# Logistic Regression"
   ]
  },
  {
   "cell_type": "markdown",
   "metadata": {},
   "source": [
    "## Nomal logistic regression"
   ]
  },
  {
   "cell_type": "markdown",
   "metadata": {},
   "source": [
    "Suppose that you are the administrator of a university department and\n",
    "you want to determine each applicant's chance of admission based on their\n",
    "results on two exams. You have historical data from previous applicants\n",
    "that you can use as a training set for logistic regression. For each training\n",
    "example, you have the applicant's scores on two exams and the admissions\n",
    "decision.\n",
    "\n",
    "Your task is to build a classi\f",
    "cation model that estimates an applicant's\n",
    "probability of admission based the scores from those two exams."
   ]
  },
  {
   "cell_type": "markdown",
   "metadata": {},
   "source": [
    "#### Prepare the data"
   ]
  },
  {
   "cell_type": "code",
   "execution_count": 3,
   "metadata": {
    "collapsed": true
   },
   "outputs": [],
   "source": [
    "data1 = pd.read_csv('https://raw.githubusercontent.com/TianYe00/Machine_Learning_exercises/master/ex2data1.txt',\n",
    "                    header = None)\n",
    "data1.columns = ['x1', 'x2', 'y']\n",
    "m = data1.shape[0]"
   ]
  },
  {
   "cell_type": "markdown",
   "metadata": {},
   "source": [
    "#### Scatter plot of `data1`"
   ]
  },
  {
   "cell_type": "code",
   "execution_count": 15,
   "metadata": {
    "collapsed": false
   },
   "outputs": [
    {
     "data": {
      "text/plain": [
       "<matplotlib.text.Text at 0x10e21a690>"
      ]
     },
     "execution_count": 15,
     "metadata": {},
     "output_type": "execute_result"
    },
    {
     "data": {
      "image/png": "[encoded data removed]",
      "text/plain": [
       "<matplotlib.figure.Figure at 0x108d11610>"
      ]
     },
     "metadata": {},
     "output_type": "display_data"
    }
   ],
   "source": [
    "ind = data1['y'] == 1\n",
    "pos, = plt.plot(data1.ix[ind]['x1'], data1.ix[ind]['x2'], 'o', marker = '+')\n",
    "# Put a white cross over some of the data.\n",
    "no, = plt.plot(data1.ix[~ind]['x1'], data1.ix[~ind]['x2'], 'o', c = 'yellow')\n",
    "plt.legend([pos, no], [\"admitted\", \"Not admitted\"], numpoints = 1)\n",
    "plt.xlabel('Exam 1 score')\n",
    "plt.ylabel('Exam 2 score')"
   ]
  },
  {
   "cell_type": "markdown",
   "metadata": {},
   "source": [
    "#### Sigmoid function"
   ]
  },
  {
   "cell_type": "code",
   "execution_count": null,
   "metadata": {
    "collapsed": true
   },
   "outputs": [],
   "source": [
    "sigmoid = lambda(x): 1.0/(1.0 + exp(-x))"
   ]
  },
  {
   "cell_type": "markdown",
   "metadata": {},
   "source": [
    "#### Cost and its gradient functions"
   ]
  },
  {
   "cell_type": "code",
   "execution_count": null,
   "metadata": {
    "collapsed": true
   },
   "outputs": [],
   "source": [
    "def logistic_cost(theta, X, y):\n",
    "    m = np.float64(X.shape[0]) #be careful when data type is int\n",
    "    h = sigmoid(X.dot(theta))\n",
    "    J = (1/m) * (-y.dot(log(h)) - (1 - y).dot(log(1 - h)))\n",
    "    return J  \n",
    "def logistic_grad(theta, X, y):\n",
    "    m = np.float64(X.shape[0]) #be careful when data type is int\n",
    "    h = sigmoid(X.dot(theta))\n",
    "    grad = (1/m) * (h - y).dot(X)\n",
    "    return grad"
   ]
  },
  {
   "cell_type": "code",
   "execution_count": null,
   "metadata": {
    "collapsed": true
   },
   "outputs": [],
   "source": [
    "X = np.c_[np.ones(m), data1[['x1', 'x2']]]\n",
    "init_theta = np.array([1, 2, 3])  #this value cannot be close to 0 when we use BFGS algorithm\n",
    "res = fmin_bfgs(logistic_cost, init_theta, fprime = logistic_grad, args=(X, data1['y']))\n",
    "#We can also use sklearn.linear_model.LogisticRegression\n",
    "from sklearn.linear_model import LogisticRegression\n"
   ]
  },
  {
   "cell_type": "markdown",
   "metadata": {},
   "source": [
    "#### Prediction"
   ]
  },
  {
   "cell_type": "code",
   "execution_count": null,
   "metadata": {
    "collapsed": true
   },
   "outputs": [],
   "source": [
    "def predict(X, theta):\n",
    "    p = sigmoid(X.dot(theta))\n",
    "    return p"
   ]
  },
  {
   "cell_type": "markdown",
   "metadata": {},
   "source": [
    "## Regularized logistic regression"
   ]
  },
  {
   "cell_type": "markdown",
   "metadata": {},
   "source": [
    "In this part of the exercise, you will implement regularized logistic regression\n",
    "to predict whether microchips from a fabrication plant passes quality assur-\n",
    "ance (QA). During QA, each microchip goes through various tests to ensure\n",
    "it is functioning correctly.\n",
    "\n",
    "Suppose you are the product manager of the factory and you have the\n",
    "test results for some microchips on two di\u000b",
    "erent tests. From these two tests,\n",
    "you would like to determine whether the microchips should be accepted or\n",
    "rejected. To help you make the decision, you have a dataset of test results\n",
    "on past microchips, from which you can build a logistic regression model."
   ]
  },
  {
   "cell_type": "markdown",
   "metadata": {},
   "source": [
    "#### Prepare data"
   ]
  },
  {
   "cell_type": "code",
   "execution_count": 21,
   "metadata": {
    "collapsed": true
   },
   "outputs": [],
   "source": [
    "data2 = pd.read_csv('https://raw.githubusercontent.com/TianYe00/Machine_Learning_exercises/master/ex2data2.txt',\n",
    "                    header = None)\n",
    "data2.columns = ['x1', 'x2', 'y']\n",
    "m = data2.shape[0]"
   ]
  },
  {
   "cell_type": "markdown",
   "metadata": {},
   "source": [
    "#### Visualizing the data"
   ]
  },
  {
   "cell_type": "code",
   "execution_count": 23,
   "metadata": {
    "collapsed": false
   },
   "outputs": [
    {
     "data": {
      "text/plain": [
       "<matplotlib.text.Text at 0x10eb76890>"
      ]
     },
     "execution_count": 23,
     "metadata": {},
     "output_type": "execute_result"
    },
    {
     "data": {
      "image/png": "[encoded data removed]",
      "text/plain": [
       "<matplotlib.figure.Figure at 0x10e9b2550>"
      ]
     },
     "metadata": {},
     "output_type": "display_data"
    }
   ],
   "source": [
    "ind = data2['y'] == 1\n",
    "pos, = plt.plot(data2.ix[ind]['x1'], data2.ix[ind]['x2'], 'o', marker = '+', c = 'black')\n",
    "# Put a white cross over some of the data.\n",
    "no, = plt.plot(data2.ix[~ind]['x1'], data2.ix[~ind]['x2'], 'o', c = 'yellow')\n",
    "plt.legend([pos, no], [\"y = 1\", \"y = 0\"], numpoints = 1)\n",
    "plt.xlabel('Microchip Test 1')\n",
    "plt.ylabel('Microchip Test 2')"
   ]
  },
  {
   "cell_type": "markdown",
   "metadata": {},
   "source": [
    "#### Feature mapping"
   ]
  },
  {
   "cell_type": "code",
   "execution_count": null,
   "metadata": {
    "collapsed": true
   },
   "outputs": [],
   "source": [
    "def mapFeature(X, degree):   #X should have type pandas.DataFrame\n",
    "    n = X.shape[1]\n",
    "    X_new = X\n",
    "    for i in xrange(2, degree+1):\n",
    "        for j in xrange(i+1):\n",
    "            for a in xrange(n - 1):\n",
    "                X_new = np.c_[X_new, (X.icol(a) ** (i - j) * X.icol(a + 1) ** (j))]\n",
    "    return X_new         \n",
    "# Try degree is 6.\n",
    "X = mapFeature(data2[['x1', 'x2']], 6)"
   ]
  },
  {
   "cell_type": "markdown",
   "metadata": {},
   "source": [
    "#### Fit the model"
   ]
  },
  {
   "cell_type": "code",
   "execution_count": null,
   "metadata": {
    "collapsed": true
   },
   "outputs": [],
   "source": [
    "#$\\lambda = 2$\n",
    "C = 1./2\n",
    "res = LogisticRegression(C=C, penalty='l2').fit(X, data2['y'])\n",
    "#Estimated coefficients\n",
    "res.coef_\n",
    "#Prediction\n",
    "res.predict(X[1, :])"
   ]
  },
  {
   "cell_type": "markdown",
   "metadata": {},
   "source": [
    "# Neural Networks for Multi-class Classification"
   ]
  },
  {
   "cell_type": "markdown",
   "metadata": {},
   "source": [
    "For this exercise, you will use logistic regression and neural networks to recognize handwritten digits (from 0 to 9). Automated handwritten digit recognition is widely used today - from recognizing zip codes (postal codes) on mail envelopes to recognizing amounts written on bank checks. This exercise will show you how the methods you’ve learned can be used for this classification task.\n",
    "\n",
    "There are 5000 training examples in ex3data1.mat, where each training example is a 20 pixel by 20 pixel grayscale image of the digit. Each pixel is represented by a floating point number indicating the grayscale intensity at that location. The 20 by 20 grid of pixels is “unrolled” into a 400-dimensional vector. Each of these training examples becomes a single row in our data matrix X. This gives us a 5000 by 400 matrix X where every row is a training example for a handwritten digit image."
   ]
  },
  {
   "cell_type": "markdown",
   "metadata": {},
   "source": [
    "#### Prepare data"
   ]
  },
  {
   "cell_type": "code",
   "execution_count": null,
   "metadata": {
    "collapsed": true
   },
   "outputs": [],
   "source": [
    "%cd /Users/newuser/Desktop/Research(Tian_Ye)/online_course/Machine_Learning/machine-learning-ex4/ex4\n",
    "data = sio.loadmat('ex4data1.mat')\n",
    "X = data['X']\n",
    "m = X.shape[0]\n",
    "y = data['y']     #y is the vector with each element from 1 to 10 representing 1,...,9,0 repectively.\n",
    "num_labels = 10    #number of classes\n",
    "#Recode y as a 10 * 5000 matrix\n",
    "yk = np.zeros([m, num_labels])\n",
    "for i in range(m):\n",
    "    yk[i, y[i]-1] = 1"
   ]
  },
  {
   "cell_type": "markdown",
   "metadata": {},
   "source": [
    "#### Fit the model with `neurolab` package"
   ]
  },
  {
   "cell_type": "code",
   "execution_count": null,
   "metadata": {
    "collapsed": true
   },
   "outputs": [],
   "source": [
    "#cannot work well\n",
    "import neurolab as nl\n",
    "mm = np.c_[X.min(axis = 0)-1e-5, X.max(axis = 0)+1e-5]\n",
    "#25 nodes are in the hidden layer, 10 units in the output.\n",
    "#Apply logsig function in matlab, which is sigmoid function.\n",
    "#Since we have two layers that need transf, we should pass two transf.\n",
    "net = nl.net.newff(mm, [25, 10], transf = [nl.trans.LogSig()] * 2)\n",
    "#By default the train function is neurolab.train.train_gdx(),\n",
    "#which is Gradient descent with momentum backpropagation and adaptive lr(learning rate).\n",
    "error1 = net.train(X, yk)\n"
   ]
  },
  {
   "cell_type": "markdown",
   "metadata": {},
   "source": [
    "# Anomaly Detection"
   ]
  },
  {
   "cell_type": "markdown",
   "metadata": {},
   "source": [
    "In this exercise, you will implement an anomaly detection algorithm to detect\n",
    "anomalous behavior in server computers. The features measure the through-\n",
    "put ($\\frac{mb}{s}$) and latency ($ms$) of response of each server. While your servers\n",
    "were operating, you collected $m = 307$ examples of how they were behaving,\n",
    "and thus have an unlabeled dataset $\\{x^{(1)},...,x^{(m)}\\}$. You suspect that the\n",
    "vast majority of these examples are \\normal\" (non-anomalous) examples of\n",
    "the servers operating normally, but there might also be some examples of\n",
    "servers acting anomalously within this dataset.\n",
    "\n",
    "You will use a Gaussian model to detect anomalous examples in your\n",
    "dataset. You will first start on a 2D dataset that will allow you to visualize\n",
    "what the algorithm is doing. On that dataset you will fit a Gaussian distribution and then find values that have very low probability and hence can\n",
    "be considered anomalies. After that, you will apply the anomaly detection\n",
    "algorithm to a larger dataset with many dimensions."
   ]
  },
  {
   "cell_type": "markdown",
   "metadata": {},
   "source": [
    "#### Prepare data"
   ]
  },
  {
   "cell_type": "code",
   "execution_count": null,
   "metadata": {
    "collapsed": true
   },
   "outputs": [],
   "source": [
    "%cd /Users/sunruimin/Desktop/Research(Tian_Ye)/online_course/Machine_Learning/machine-learning-ex8/ex8\n",
    "data = sio.loadmat('ex8data1.mat')\n",
    "X = data['X']\n",
    "# Data in validation group.\n",
    "Xv = data['Xval']\n",
    "yv = data['yval']"
   ]
  },
  {
   "cell_type": "markdown",
   "metadata": {},
   "source": [
    "#### Gaussion detection"
   ]
  },
  {
   "cell_type": "markdown",
   "metadata": {},
   "source": [
    "We assume that $x^{(i)}$s are independent. Then we estimate Gaussian parameters."
   ]
  },
  {
   "cell_type": "code",
   "execution_count": null,
   "metadata": {
    "collapsed": true
   },
   "outputs": [],
   "source": [
    "Xmean = X.mean(axis = 0)\n",
    "Xvar = X.var(axis = 0)"
   ]
  },
  {
   "cell_type": "markdown",
   "metadata": {},
   "source": [
    "#### Selecting the threshold"
   ]
  },
  {
   "cell_type": "markdown",
   "metadata": {},
   "source": [
    "The low probability examples are\n",
    "more likely to be the anomalies in our dataset. One way to determine which\n",
    "examples are anomalies is to select a threshold based on a cross validation\n",
    "set. In this part of the exercise, you will implement an algorithm to select\n",
    "the threshold $\\epsilon$ using the $F_1$ score on a cross validation set."
   ]
  },
  {
   "cell_type": "code",
   "execution_count": null,
   "metadata": {
    "collapsed": true
   },
   "outputs": [],
   "source": [
    "def selectThreshold(yv, p, num_test = 1000):\n",
    "    p = p.reshape(yv.shape[0], 1)      #Coutious about the np.ndarray shape!!!\n",
    "    p2 = np.max(p)\n",
    "    p1 = np.min(p)\n",
    "    bestF1 = 0\n",
    "    bestepsilon = 0\n",
    "    stepsize = (p2 - p1)/num_test\n",
    "    for epsilon in np.arange(p1, p2, stepsize):\n",
    "        pred = p < epsilon            \n",
    "        tp = np.sum((pred == 1) & (yv == 1)).astype('float64')  #Coutious about data type!!!\n",
    "        fp = np.sum((pred == 1) & (yv == 0)).astype('float64')\n",
    "        fn = np.sum((pred == 0) & (yv == 1)).astype('float64')\n",
    "        prec = tp/(tp + fp)\n",
    "        rec  = tp/(tp + fn)\n",
    "        F1 = 2 * prec * rec / (prec + rec)\n",
    "        if F1 > bestF1:\n",
    "            bestF1 = F1\n",
    "            bestepsilon = epsilon\n",
    "    return (bestF1, bestepsilon)\n",
    "\n",
    "from scipy.stats import multivariate_normal\n",
    "p = multivariate_normal.pdf(X, mean=Xmean, cov=Xvar)\n",
    "F1, epsilon = selectThreshold(yv, p)\n"
   ]
  },
  {
   "cell_type": "markdown",
   "metadata": {},
   "source": [
    "# Recomendation"
   ]
  },
  {
   "cell_type": "markdown",
   "metadata": {},
   "source": [
    "### Collavorative filtering"
   ]
  },
  {
   "cell_type": "markdown",
   "metadata": {},
   "source": [
    "In this part of the exercise, you will implement the collaborative filtering\n",
    "learning algorithm and apply it to a dataset of movie ratings. This dataset\n",
    "consists of ratings on a scale of 1 to 5. The dataset has $n_u = 943$ users, and\n",
    "$n_m = 1682$ movies.\n",
    "\n",
    "The matrix $Y$ (a num_movies $\\times$ num_users matrix) stores the ratings $Y^{(i,j)}$\n",
    "(from 1 to 5). The matrix $R$ is an binary-valued indicator matrix, where\n",
    "$R_{i,j} = 1$ if user $j$ gave a rating to movie $i$, and $R_{i,j} = 0$ otherwise. The\n",
    "objective of collaborative filtering is to predict movie ratings for the movies\n",
    "that users have not yet rated, that is, the entries with $R_{i,j} = 0$. This will\n",
    "allow us to recommend the movies with the highest predicted ratings to the\n",
    "user."
   ]
  },
  {
   "cell_type": "markdown",
   "metadata": {},
   "source": [
    "#### Prepare data"
   ]
  },
  {
   "cell_type": "code",
   "execution_count": 8,
   "metadata": {
    "collapsed": false
   },
   "outputs": [
    {
     "name": "stdout",
     "output_type": "stream",
     "text": [
      "/Users/sunruimin/Desktop/Research(Tian_Ye)/online_course/Machine_Learning/machine-learning-ex8/ex8\n",
      "Average rating for movie 1 (Toy Story): 3.878319 / 5\n",
      "\n",
      "\n"
     ]
    }
   ],
   "source": [
    "%cd /Users/sunruimin/Desktop/Research(Tian_Ye)/online_course/Machine_Learning/machine-learning-ex8/ex8\n",
    "data = sio.loadmat('ex8_movies.mat')\n",
    "Y = data['Y']\n",
    "R = data['R']\n",
    "#  From the matrix, we can compute statistics like average rating.\n",
    "print 'Average rating for movie 1 (Toy Story): %f / 5\\n\\n' %np.mean(Y[0, R[0, :].astype(np.bool)])"
   ]
  },
  {
   "cell_type": "markdown",
   "metadata": {},
   "source": [
    "#### Visualize data"
   ]
  },
  {
   "cell_type": "code",
   "execution_count": 10,
   "metadata": {
    "collapsed": false
   },
   "outputs": [
    {
     "data": {
      "text/plain": [
       "<matplotlib.image.AxesImage at 0x1086e4ad0>"
      ]
     },
     "execution_count": 10,
     "metadata": {},
     "output_type": "execute_result"
    },
    {
     "data": {
      "image/png": "[encoded data removed]",
      "text/plain": [
       "<matplotlib.figure.Figure at 0x108536150>"
      ]
     },
     "metadata": {},
     "output_type": "display_data"
    }
   ],
   "source": [
    "plt.imshow(Y) #can se the sparsity of data"
   ]
  },
  {
   "cell_type": "markdown",
   "metadata": {},
   "source": [
    "#### Estimate $X$ and $\\theta$ simultaneously"
   ]
  },
  {
   "cell_type": "markdown",
   "metadata": {},
   "source": [
    "Apply gradient descent to compute $X$ and $\\theta$ simultaneously. However in the following example, gradient descend failed to converge. So we will introduce alternative algorithm to estimate $X$ and $\\theta$."
   ]
  },
  {
   "cell_type": "code",
   "execution_count": null,
   "metadata": {
    "collapsed": true
   },
   "outputs": [],
   "source": [
    "def recom_gd(x, theta, y, R, alpha = 0.1, lamb = 1, numIterations = 100, thres = 0.001):\n",
    "    J1 = 0.\n",
    "    J2 = 100.\n",
    "    for iter in range(numIterations):\n",
    "        if abs(J2 - J1) < thres:\n",
    "            break\n",
    "        J2 = J1\n",
    "        hypothesis = np.dot(x, theta.T)\n",
    "        loss = hypothesis - y         \n",
    "        J1 = np.sum(loss ** 2 * R) / 2\n",
    "        x_grad = np.dot(loss * R, theta)\n",
    "        theta_grad = np.dot((loss * R).T, x)\n",
    "        if lamb > 0:\n",
    "            J1 = J1 + lamb * np.sum(theta ** 2)/2 + lamb * np.sum(x ** 2)/2\n",
    "            x_grad = x_grad + lamb * x\n",
    "            theta_grad = theta_grad + lamb * theta\n",
    "        print \"iter %s | J: %.3f\" % (iter, J1)              \n",
    "        theta = theta - alpha * theta_grad  # update\n",
    "        x = x - alpha * x_grad\n",
    "    return (theta, x)"
   ]
  },
  {
   "cell_type": "markdown",
   "metadata": {},
   "source": [
    "However in the following example, gradient descend failed to converge. So we will introduce an alternative algorithm to estimate $X$ and $\\theta$."
   ]
  },
  {
   "cell_type": "code",
   "execution_count": null,
   "metadata": {
    "collapsed": true
   },
   "outputs": [],
   "source": [
    "# This cannot work!!\n",
    "def recom_cost(init, y, R, Nm, lamb):\n",
    "    x = init[:Nm, :]\n",
    "    theta = init[Nm:, :]\n",
    "    hypothesis = np.dot(x, theta.T)\n",
    "    loss = hypothesis - y         \n",
    "    J = np.sum(loss ** 2 * R) / 2\n",
    "    if lamb > 0:\n",
    "        J = J + lamb * np.sum(theta ** 2)/2 + lamb * np.sum(x ** 2)/2\n",
    "    return J  \n",
    "def recom_grad(init, y, R, Nm, lamb): \n",
    "    x = init[:Nm, :]\n",
    "    theta = init[Nm:, :]\n",
    "    hypothesis = np.dot(x, theta.T)\n",
    "    loss = hypothesis - y         \n",
    "    x_grad = np.dot(loss * R, theta)\n",
    "    theta_grad = np.dot((loss * R).T, x)\n",
    "    if lamb > 0:\n",
    "        x_grad = x_grad + lamb * x\n",
    "        theta_grad = theta_grad + lamb * theta\n",
    "    grad = np.concatenate((x_grad, theta_grad))\n",
    "    return grad\n",
    "\n",
    "init = np.concatenate((X, theta))  \n",
    "res = fmin_bfgs(recom_cost, init, fprime = recom_grad, args=(Y, R, Y.shape[0], 0))"
   ]
  },
  {
   "cell_type": "markdown",
   "metadata": {},
   "source": [
    "We firstly initialize $X$ and $\\theta$."
   ]
  },
  {
   "cell_type": "code",
   "execution_count": null,
   "metadata": {
    "collapsed": true
   },
   "outputs": [],
   "source": [
    "num_users = Y.shape[1]\n",
    "num_movies = Y.shape[0]\n",
    "num_features = 10\n",
    "X = np.random.normal(size = (num_movies, num_features))\n",
    "theta = np.random.normal(size = (num_users, num_features))"
   ]
  },
  {
   "cell_type": "markdown",
   "metadata": {},
   "source": [
    "We can normalize rates by rows (movies). We can use this mean when we deal with cold starts."
   ]
  },
  {
   "cell_type": "code",
   "execution_count": null,
   "metadata": {
    "collapsed": true
   },
   "outputs": [],
   "source": [
    "def rates_nomalize(Y, R):\n",
    "    m = Y.shape[0]\n",
    "    Ymean = np.zeros(m)\n",
    "    Ynorm = Y\n",
    "    for i in range(m):\n",
    "        idx = R[i, :] == 1\n",
    "        Ymean[i] = np.mean(Y[i, idx])\n",
    "        Ynorm[i, idx] = Y[i, idx] - Ymean[i]\n",
    "    return (Ymean, Ynorm)"
   ]
  },
  {
   "cell_type": "markdown",
   "metadata": {},
   "source": [
    "# Important Remarks"
   ]
  },
  {
   "cell_type": "markdown",
   "metadata": {},
   "source": [
    "## Differences between `[R, ]` and `[R, 1]`"
   ]
  },
  {
   "cell_type": "markdown",
   "metadata": {},
   "source": [
    "This differences cause one computation problem in the Sellecting threshold $\\epsilon$ in Amormaly Detection section. The original input `p` has shape `[R, ]`. This will make pred has shape `[R, R]` instead of `[R, 1]`. The details of the differences can be referred to [page](http://stackoverflow.com/questions/22053050/difference-between-numpy-array-shape-r-1-and-r)."
   ]
  }
 ],
 "metadata": {
  "kernelspec": {
   "display_name": "Python 3",
   "language": "python",
   "name": "python3"
  },
  "language_info": {
   "codemirror_mode": {
    "name": "ipython",
    "version": 3
   },
   "file_extension": ".py",
   "mimetype": "text/x-python",
   "name": "python",
   "nbconvert_exporter": "python",
   "pygments_lexer": "ipython3",
   "version": "3.5.1"
  }
 },
 "nbformat": 4,
 "nbformat_minor": 0
}
