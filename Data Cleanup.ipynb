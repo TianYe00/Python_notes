{
 "cells": [
  {
   "cell_type": "markdown",
   "metadata": {},
   "source": [
    "# Data Cleanup"
   ]
  },
  {
   "cell_type": "markdown",
   "metadata": {},
   "source": [
    "Data cleanup methods refer to book \"Data Wrangling with Python\" and \"Python for Data Analysis\"."
   ]
  },
  {
   "cell_type": "code",
   "execution_count": 156,
   "metadata": {
    "collapsed": true
   },
   "outputs": [],
   "source": [
    "import numpy as np\n",
    "import pandas as pd\n",
    "from pandas import Series, DataFrame\n",
    "import matplotlib.pyplot as plt\n",
    "%matplotlib inline"
   ]
  },
  {
   "cell_type": "markdown",
   "metadata": {},
   "source": [
    "## Prepare the data"
   ]
  },
  {
   "cell_type": "markdown",
   "metadata": {},
   "source": [
    "This data set related to child labor. The data is stored in mn.cvs with column names in acronyms. We can find these acronyms in the mn_headers.csv."
   ]
  },
  {
   "cell_type": "code",
   "execution_count": 157,
   "metadata": {
    "collapsed": false
   },
   "outputs": [
    {
     "data": {
      "text/html": [
       "<div>\n",
       "<table border=\"1\" class=\"dataframe\">\n",
       "  <thead>\n",
       "    <tr style=\"text-align: right;\">\n",
       "      <th></th>\n",
       "      <th>HH1</th>\n",
       "      <th>HH2</th>\n",
       "      <th>LN</th>\n",
       "      <th>MWM1</th>\n",
       "      <th>MWM2</th>\n",
       "      <th>MWM4</th>\n",
       "      <th>MWM5</th>\n",
       "      <th>MWM6D</th>\n",
       "      <th>MWM6M</th>\n",
       "      <th>MWM6Y</th>\n",
       "      <th>...</th>\n",
       "      <th>MCSURV</th>\n",
       "      <th>MCDEAD</th>\n",
       "      <th>mwelevel</th>\n",
       "      <th>mnweight</th>\n",
       "      <th>wscore</th>\n",
       "      <th>windex5</th>\n",
       "      <th>wscoreu</th>\n",
       "      <th>windex5u</th>\n",
       "      <th>wscorer</th>\n",
       "      <th>windex5r</th>\n",
       "    </tr>\n",
       "  </thead>\n",
       "  <tbody>\n",
       "    <tr>\n",
       "      <th>1</th>\n",
       "      <td>1</td>\n",
       "      <td>17</td>\n",
       "      <td>1</td>\n",
       "      <td>1</td>\n",
       "      <td>17</td>\n",
       "      <td>1</td>\n",
       "      <td>14</td>\n",
       "      <td>7</td>\n",
       "      <td>4</td>\n",
       "      <td>2014</td>\n",
       "      <td>...</td>\n",
       "      <td>0.0</td>\n",
       "      <td>0.0</td>\n",
       "      <td>Higher</td>\n",
       "      <td>0.403797</td>\n",
       "      <td>1.603670</td>\n",
       "      <td>5</td>\n",
       "      <td>1.272552</td>\n",
       "      <td>5.0</td>\n",
       "      <td>NaN</td>\n",
       "      <td>NaN</td>\n",
       "    </tr>\n",
       "    <tr>\n",
       "      <th>2</th>\n",
       "      <td>1</td>\n",
       "      <td>20</td>\n",
       "      <td>1</td>\n",
       "      <td>1</td>\n",
       "      <td>20</td>\n",
       "      <td>1</td>\n",
       "      <td>14</td>\n",
       "      <td>7</td>\n",
       "      <td>4</td>\n",
       "      <td>2014</td>\n",
       "      <td>...</td>\n",
       "      <td>0.0</td>\n",
       "      <td>0.0</td>\n",
       "      <td>Higher</td>\n",
       "      <td>0.403797</td>\n",
       "      <td>1.543277</td>\n",
       "      <td>5</td>\n",
       "      <td>1.089026</td>\n",
       "      <td>5.0</td>\n",
       "      <td>NaN</td>\n",
       "      <td>NaN</td>\n",
       "    </tr>\n",
       "    <tr>\n",
       "      <th>3</th>\n",
       "      <td>2</td>\n",
       "      <td>1</td>\n",
       "      <td>1</td>\n",
       "      <td>2</td>\n",
       "      <td>1</td>\n",
       "      <td>1</td>\n",
       "      <td>9</td>\n",
       "      <td>8</td>\n",
       "      <td>4</td>\n",
       "      <td>2014</td>\n",
       "      <td>...</td>\n",
       "      <td>3.0</td>\n",
       "      <td>0.0</td>\n",
       "      <td>Primary</td>\n",
       "      <td>1.031926</td>\n",
       "      <td>0.878635</td>\n",
       "      <td>4</td>\n",
       "      <td>-0.930721</td>\n",
       "      <td>1.0</td>\n",
       "      <td>NaN</td>\n",
       "      <td>NaN</td>\n",
       "    </tr>\n",
       "    <tr>\n",
       "      <th>4</th>\n",
       "      <td>2</td>\n",
       "      <td>1</td>\n",
       "      <td>5</td>\n",
       "      <td>2</td>\n",
       "      <td>1</td>\n",
       "      <td>5</td>\n",
       "      <td>9</td>\n",
       "      <td>12</td>\n",
       "      <td>4</td>\n",
       "      <td>2014</td>\n",
       "      <td>...</td>\n",
       "      <td>NaN</td>\n",
       "      <td>NaN</td>\n",
       "      <td>NaN</td>\n",
       "      <td>0.000000</td>\n",
       "      <td>0.000000</td>\n",
       "      <td>0</td>\n",
       "      <td>0.000000</td>\n",
       "      <td>0.0</td>\n",
       "      <td>0.0</td>\n",
       "      <td>0.0</td>\n",
       "    </tr>\n",
       "    <tr>\n",
       "      <th>5</th>\n",
       "      <td>2</td>\n",
       "      <td>1</td>\n",
       "      <td>8</td>\n",
       "      <td>2</td>\n",
       "      <td>1</td>\n",
       "      <td>8</td>\n",
       "      <td>9</td>\n",
       "      <td>8</td>\n",
       "      <td>4</td>\n",
       "      <td>2014</td>\n",
       "      <td>...</td>\n",
       "      <td>0.0</td>\n",
       "      <td>0.0</td>\n",
       "      <td>Secondary</td>\n",
       "      <td>1.031926</td>\n",
       "      <td>0.878635</td>\n",
       "      <td>4</td>\n",
       "      <td>-0.930721</td>\n",
       "      <td>1.0</td>\n",
       "      <td>NaN</td>\n",
       "      <td>NaN</td>\n",
       "    </tr>\n",
       "  </tbody>\n",
       "</table>\n",
       "<p>5 rows × 158 columns</p>\n",
       "</div>"
      ],
      "text/plain": [
       "   HH1  HH2  LN  MWM1  MWM2  MWM4  MWM5  MWM6D  MWM6M  MWM6Y    ...    MCSURV  \\\n",
       "1    1   17   1     1    17     1    14      7      4   2014    ...       0.0   \n",
       "2    1   20   1     1    20     1    14      7      4   2014    ...       0.0   \n",
       "3    2    1   1     2     1     1     9      8      4   2014    ...       3.0   \n",
       "4    2    1   5     2     1     5     9     12      4   2014    ...       NaN   \n",
       "5    2    1   8     2     1     8     9      8      4   2014    ...       0.0   \n",
       "\n",
       "   MCDEAD   mwelevel  mnweight    wscore  windex5   wscoreu  windex5u  \\\n",
       "1     0.0     Higher  0.403797  1.603670        5  1.272552       5.0   \n",
       "2     0.0     Higher  0.403797  1.543277        5  1.089026       5.0   \n",
       "3     0.0    Primary  1.031926  0.878635        4 -0.930721       1.0   \n",
       "4     NaN        NaN  0.000000  0.000000        0  0.000000       0.0   \n",
       "5     0.0  Secondary  1.031926  0.878635        4 -0.930721       1.0   \n",
       "\n",
       "   wscorer  windex5r  \n",
       "1      NaN       NaN  \n",
       "2      NaN       NaN  \n",
       "3      NaN       NaN  \n",
       "4      0.0       0.0  \n",
       "5      NaN       NaN  \n",
       "\n",
       "[5 rows x 158 columns]"
      ]
     },
     "execution_count": 157,
     "metadata": {},
     "output_type": "execute_result"
    }
   ],
   "source": [
    "data = pd.read_csv('/Users/newuser/Desktop/Research(Tian_Ye)/Learning_notes/data-wrangling/data/unicef/mn.csv', index_col = 0, engine = 'python')\n",
    "data.head()"
   ]
  },
  {
   "cell_type": "markdown",
   "metadata": {},
   "source": [
    "**Remark**:\n",
    "1. The default `engine` is `'C'` which is faster but perform worse than `'python'` when there are multiple data types in the data set.\n",
    "2. Set `index_col = 0` to let the first column as the index."
   ]
  },
  {
   "cell_type": "code",
   "execution_count": 158,
   "metadata": {
    "collapsed": false
   },
   "outputs": [
    {
     "data": {
      "text/html": [
       "<div>\n",
       "<table border=\"1\" class=\"dataframe\">\n",
       "  <thead>\n",
       "    <tr style=\"text-align: right;\">\n",
       "      <th></th>\n",
       "      <th>Name</th>\n",
       "      <th>Label</th>\n",
       "      <th>Question</th>\n",
       "    </tr>\n",
       "  </thead>\n",
       "  <tbody>\n",
       "    <tr>\n",
       "      <th>0</th>\n",
       "      <td>HH1</td>\n",
       "      <td>Cluster number</td>\n",
       "      <td>NaN</td>\n",
       "    </tr>\n",
       "    <tr>\n",
       "      <th>1</th>\n",
       "      <td>HH2</td>\n",
       "      <td>Household number</td>\n",
       "      <td>NaN</td>\n",
       "    </tr>\n",
       "    <tr>\n",
       "      <th>2</th>\n",
       "      <td>LN</td>\n",
       "      <td>Line number</td>\n",
       "      <td>NaN</td>\n",
       "    </tr>\n",
       "    <tr>\n",
       "      <th>3</th>\n",
       "      <td>MWM1</td>\n",
       "      <td>Cluster number</td>\n",
       "      <td>NaN</td>\n",
       "    </tr>\n",
       "    <tr>\n",
       "      <th>4</th>\n",
       "      <td>MWM2</td>\n",
       "      <td>Household number</td>\n",
       "      <td>NaN</td>\n",
       "    </tr>\n",
       "  </tbody>\n",
       "</table>\n",
       "</div>"
      ],
      "text/plain": [
       "   Name             Label Question\n",
       "0   HH1    Cluster number      NaN\n",
       "1   HH2  Household number      NaN\n",
       "2    LN       Line number      NaN\n",
       "3  MWM1    Cluster number      NaN\n",
       "4  MWM2  Household number      NaN"
      ]
     },
     "execution_count": 158,
     "metadata": {},
     "output_type": "execute_result"
    }
   ],
   "source": [
    "data_header = pd.read_csv('/Users/newuser/Desktop/Research(Tian_Ye)/Learning_notes/data-wrangling/data/unicef/mn_headers.csv')\n",
    "data_header.head()"
   ]
  },
  {
   "cell_type": "markdown",
   "metadata": {},
   "source": [
    "## Create a new data with informative columns names"
   ]
  },
  {
   "cell_type": "markdown",
   "metadata": {},
   "source": [
    "The data has 159 columns while data_header has has 210 rows. Check how many column names in data can find a description in data_header."
   ]
  },
  {
   "cell_type": "code",
   "execution_count": 160,
   "metadata": {
    "collapsed": false
   },
   "outputs": [
    {
     "data": {
      "text/plain": [
       "150"
      ]
     },
     "execution_count": 160,
     "metadata": {},
     "output_type": "execute_result"
    }
   ],
   "source": [
    "sum(data.columns.isin(data_header['Name']))"
   ]
  },
  {
   "cell_type": "code",
   "execution_count": 164,
   "metadata": {
    "collapsed": false
   },
   "outputs": [],
   "source": [
    "d = data.columns[data.columns.isin(data_header['Name'])]\n",
    "f = data_header['Label'][data_header['Name'].isin(d)]"
   ]
  },
  {
   "cell_type": "code",
   "execution_count": 173,
   "metadata": {
    "collapsed": false
   },
   "outputs": [
    {
     "data": {
      "text/plain": [
       "(array([], dtype=int64),)"
      ]
     },
     "execution_count": 173,
     "metadata": {},
     "output_type": "execute_result"
    }
   ],
   "source": [
    "np.where(~f.isin(data_new.columns))"
   ]
  },
  {
   "cell_type": "code",
   "execution_count": 176,
   "metadata": {
    "collapsed": false
   },
   "outputs": [
    {
     "data": {
      "text/plain": [
       "0"
      ]
     },
     "execution_count": 176,
     "metadata": {},
     "output_type": "execute_result"
    }
   ],
   "source": [
    "sum(data_header['Name'].duplicated())"
   ]
  },
  {
   "cell_type": "markdown",
   "metadata": {},
   "source": [
    "Create a data to contain the columns whose name can be found in the data_header."
   ]
  },
  {
   "cell_type": "code",
   "execution_count": 210,
   "metadata": {
    "collapsed": false,
    "scrolled": true
   },
   "outputs": [
    {
     "data": {
      "text/html": [
       "<div>\n",
       "<table border=\"1\" class=\"dataframe\">\n",
       "  <thead>\n",
       "    <tr style=\"text-align: right;\">\n",
       "      <th></th>\n",
       "      <th>Cluster number</th>\n",
       "      <th>HH2</th>\n",
       "      <th>LN</th>\n",
       "      <th>MWM1</th>\n",
       "      <th>MWM2</th>\n",
       "      <th>MWM4</th>\n",
       "      <th>MWM5</th>\n",
       "      <th>MWM6D</th>\n",
       "      <th>MWM6M</th>\n",
       "      <th>MWM6Y</th>\n",
       "      <th>...</th>\n",
       "      <th>MWAGE</th>\n",
       "      <th>MWDOM</th>\n",
       "      <th>MWAGEM</th>\n",
       "      <th>MWDOBLC</th>\n",
       "      <th>MMSTATUS</th>\n",
       "      <th>MCEB</th>\n",
       "      <th>MCSURV</th>\n",
       "      <th>MCDEAD</th>\n",
       "      <th>wscore</th>\n",
       "      <th>windex5</th>\n",
       "    </tr>\n",
       "  </thead>\n",
       "  <tbody>\n",
       "    <tr>\n",
       "      <th>1</th>\n",
       "      <td>1</td>\n",
       "      <td>17</td>\n",
       "      <td>1</td>\n",
       "      <td>1</td>\n",
       "      <td>17</td>\n",
       "      <td>1</td>\n",
       "      <td>14</td>\n",
       "      <td>7</td>\n",
       "      <td>4</td>\n",
       "      <td>2014</td>\n",
       "      <td>...</td>\n",
       "      <td>25-29</td>\n",
       "      <td>1365.0</td>\n",
       "      <td>29.0</td>\n",
       "      <td>NaN</td>\n",
       "      <td>Currently married/in union</td>\n",
       "      <td>0.0</td>\n",
       "      <td>0.0</td>\n",
       "      <td>0.0</td>\n",
       "      <td>1.603670</td>\n",
       "      <td>5</td>\n",
       "    </tr>\n",
       "    <tr>\n",
       "      <th>2</th>\n",
       "      <td>1</td>\n",
       "      <td>20</td>\n",
       "      <td>1</td>\n",
       "      <td>1</td>\n",
       "      <td>20</td>\n",
       "      <td>1</td>\n",
       "      <td>14</td>\n",
       "      <td>7</td>\n",
       "      <td>4</td>\n",
       "      <td>2014</td>\n",
       "      <td>...</td>\n",
       "      <td>35-39</td>\n",
       "      <td>1370.0</td>\n",
       "      <td>37.0</td>\n",
       "      <td>NaN</td>\n",
       "      <td>Currently married/in union</td>\n",
       "      <td>0.0</td>\n",
       "      <td>0.0</td>\n",
       "      <td>0.0</td>\n",
       "      <td>1.543277</td>\n",
       "      <td>5</td>\n",
       "    </tr>\n",
       "    <tr>\n",
       "      <th>3</th>\n",
       "      <td>2</td>\n",
       "      <td>1</td>\n",
       "      <td>1</td>\n",
       "      <td>2</td>\n",
       "      <td>1</td>\n",
       "      <td>1</td>\n",
       "      <td>9</td>\n",
       "      <td>8</td>\n",
       "      <td>4</td>\n",
       "      <td>2014</td>\n",
       "      <td>...</td>\n",
       "      <td>40-44</td>\n",
       "      <td>1100.0</td>\n",
       "      <td>18.0</td>\n",
       "      <td>NaN</td>\n",
       "      <td>Currently married/in union</td>\n",
       "      <td>3.0</td>\n",
       "      <td>3.0</td>\n",
       "      <td>0.0</td>\n",
       "      <td>0.878635</td>\n",
       "      <td>4</td>\n",
       "    </tr>\n",
       "    <tr>\n",
       "      <th>4</th>\n",
       "      <td>2</td>\n",
       "      <td>1</td>\n",
       "      <td>5</td>\n",
       "      <td>2</td>\n",
       "      <td>1</td>\n",
       "      <td>5</td>\n",
       "      <td>9</td>\n",
       "      <td>12</td>\n",
       "      <td>4</td>\n",
       "      <td>2014</td>\n",
       "      <td>...</td>\n",
       "      <td>NaN</td>\n",
       "      <td>NaN</td>\n",
       "      <td>NaN</td>\n",
       "      <td>NaN</td>\n",
       "      <td>NaN</td>\n",
       "      <td>NaN</td>\n",
       "      <td>NaN</td>\n",
       "      <td>NaN</td>\n",
       "      <td>0.000000</td>\n",
       "      <td>0</td>\n",
       "    </tr>\n",
       "    <tr>\n",
       "      <th>5</th>\n",
       "      <td>2</td>\n",
       "      <td>1</td>\n",
       "      <td>8</td>\n",
       "      <td>2</td>\n",
       "      <td>1</td>\n",
       "      <td>8</td>\n",
       "      <td>9</td>\n",
       "      <td>8</td>\n",
       "      <td>4</td>\n",
       "      <td>2014</td>\n",
       "      <td>...</td>\n",
       "      <td>20-24</td>\n",
       "      <td>NaN</td>\n",
       "      <td>NaN</td>\n",
       "      <td>NaN</td>\n",
       "      <td>Never married/in union</td>\n",
       "      <td>0.0</td>\n",
       "      <td>0.0</td>\n",
       "      <td>0.0</td>\n",
       "      <td>0.878635</td>\n",
       "      <td>4</td>\n",
       "    </tr>\n",
       "  </tbody>\n",
       "</table>\n",
       "<p>5 rows × 150 columns</p>\n",
       "</div>"
      ],
      "text/plain": [
       "   Cluster number  HH2  LN  MWM1  MWM2  MWM4  MWM5  MWM6D  MWM6M  MWM6Y  \\\n",
       "1               1   17   1     1    17     1    14      7      4   2014   \n",
       "2               1   20   1     1    20     1    14      7      4   2014   \n",
       "3               2    1   1     2     1     1     9      8      4   2014   \n",
       "4               2    1   5     2     1     5     9     12      4   2014   \n",
       "5               2    1   8     2     1     8     9      8      4   2014   \n",
       "\n",
       "    ...     MWAGE   MWDOM  MWAGEM  MWDOBLC                    MMSTATUS  MCEB  \\\n",
       "1   ...     25-29  1365.0    29.0      NaN  Currently married/in union   0.0   \n",
       "2   ...     35-39  1370.0    37.0      NaN  Currently married/in union   0.0   \n",
       "3   ...     40-44  1100.0    18.0      NaN  Currently married/in union   3.0   \n",
       "4   ...       NaN     NaN     NaN      NaN                         NaN   NaN   \n",
       "5   ...     20-24     NaN     NaN      NaN      Never married/in union   0.0   \n",
       "\n",
       "   MCSURV  MCDEAD    wscore  windex5  \n",
       "1     0.0     0.0  1.603670        5  \n",
       "2     0.0     0.0  1.543277        5  \n",
       "3     3.0     0.0  0.878635        4  \n",
       "4     NaN     NaN  0.000000        0  \n",
       "5     0.0     0.0  0.878635        4  \n",
       "\n",
       "[5 rows x 150 columns]"
      ]
     },
     "execution_count": 210,
     "metadata": {},
     "output_type": "execute_result"
    }
   ],
   "source": [
    "data_new = DataFrame()\n",
    "n = data.shape[0]\n",
    "for i in range(data.shape[1]):\n",
    "    col_new = data_header['Label'][data_header['Name'] == data.columns[i]]\n",
    "    #Note that col_new has dtype: object and hence cannot be used as column name.   \n",
    "    if len(col_new) > 0:\n",
    "        col_new = col_new.iloc[0]     #Apply .iloc to convert the dtype: object to normal string.\n",
    "                                        #We choose index 0 because there is only one element in the list.\n",
    "        if len(data_new) != 0:\n",
    "            data_new = pd.concat([data_new, data.iloc[:, i]], axis = 1) #concatenate the data by rows\n",
    "        else:\n",
    "            data_new[col_new] = data.iloc[:, i]\n",
    "data_new.head()"
   ]
  },
  {
   "cell_type": "markdown",
   "metadata": {},
   "source": [
    "**Remark**: \n",
    "1. When we use boolean index to find some specific targets from one column of strings, we always get results with dtype: object. But I cannot find a way to get value from object type (get the string from it). So I use `.iloc()` to convert the data type but it is not effective. \n",
    "2. We can use [`data.where()`](http://pandas.pydata.org/pandas-docs/stable/indexing.html) to get the index first. It outputs one tuple data type. However, we need to use int() to convert np.array type to int. The disadvantage of this method is that it failed to deal with all False situation."
   ]
  },
  {
   "cell_type": "code",
   "execution_count": 115,
   "metadata": {
    "collapsed": false
   },
   "outputs": [
    {
     "data": {
      "text/plain": [
       "1"
      ]
     },
     "execution_count": 115,
     "metadata": {},
     "output_type": "execute_result"
    }
   ],
   "source": [
    "i=1\n",
    "int(np.where(data_header['Name'] == data.columns[i])[0])"
   ]
  },
  {
   "cell_type": "markdown",
   "metadata": {},
   "source": [
    "## Formatting Data"
   ]
  },
  {
   "cell_type": "markdown",
   "metadata": {},
   "source": [
    "Print out the results with readable format."
   ]
  },
  {
   "cell_type": "code",
   "execution_count": 118,
   "metadata": {
    "collapsed": false
   },
   "outputs": [
    {
     "name": "stdout",
     "output_type": "stream",
     "text": [
      "Question: Cluster number\n",
      "Answer: 1\n"
     ]
    }
   ],
   "source": [
    "print('Question: {}\\nAnswer: {}'.format(data_new.columns[0], data_new.iloc[0, 0]))"
   ]
  },
  {
   "cell_type": "markdown",
   "metadata": {},
   "source": [
    "Other options."
   ]
  },
  {
   "cell_type": "code",
   "execution_count": 121,
   "metadata": {
    "collapsed": false
   },
   "outputs": [
    {
     "name": "stdout",
     "output_type": "stream",
     "text": [
      "float: 2.1231\n",
      "integer: 3,433,233,423,423\n",
      "percentatage: 32.40%\n"
     ]
    }
   ],
   "source": [
    "example_dict = {'f': 2.123123123131,\n",
    "               'i': 3433233423423,\n",
    "               'p': .324,}\n",
    "s_to_p = 'float: {f:.4f}\\n'\n",
    "s_to_p += 'integer: {i:,}\\n'\n",
    "s_to_p += 'percentatage: {p:.2%}'\n",
    "print (s_to_p.format(**example_dict)) #use ** tounpack the dictionary."
   ]
  },
  {
   "cell_type": "markdown",
   "metadata": {},
   "source": [
    "## Date Operations"
   ]
  },
  {
   "cell_type": "markdown",
   "metadata": {},
   "source": [
    "Firstly, let's look at our data holding interiew start and end times from `data_new`. Print some of our entries to make sure we know what data entries we need to use:"
   ]
  },
  {
   "cell_type": "code",
   "execution_count": 126,
   "metadata": {
    "collapsed": false
   },
   "outputs": [
    {
     "name": "stdout",
     "output_type": "stream",
     "text": [
      "(0, 'Cluster number')\n",
      "(1, 'Household number')\n",
      "(2, 'Line number')\n",
      "(3, \"Man's line number\")\n",
      "(4, 'Interviewer number')\n",
      "(5, 'Day of interview')\n",
      "(6, 'Month of interview')\n",
      "(7, 'Year of interview')\n",
      "(8, \"Result of man's interview\")\n",
      "(9, 'Field editor')\n",
      "(10, 'Data entry clerk')\n",
      "(11, 'Start of interview - Hour')\n",
      "(12, 'Start of interview - Minutes')\n",
      "(13, 'End of interview - Hour')\n",
      "(14, 'End of interview - Minutes')\n"
     ]
    }
   ],
   "source": [
    "data_new.iloc[0, 6:15]\n",
    "for x in enumerate(data_new.columns[:15]):\n",
    "    print(x)           "
   ]
  },
  {
   "cell_type": "markdown",
   "metadata": {},
   "source": [
    "**Remark**: `enumerate` can let's see the positions of entries."
   ]
  },
  {
   "cell_type": "markdown",
   "metadata": {},
   "source": [
    "We now have all the data we need to figure out exctly when the interview started and ended. We could use data like this to determine things whether interviews in th evening or morning were more likely to be completed, and whether the length of the interview affected the number of rsponses. We can also determine which was the first interview and the last interview and calculated average duration.\n",
    "\n",
    "Now let's get the start time."
   ]
  },
  {
   "cell_type": "code",
   "execution_count": 131,
   "metadata": {
    "collapsed": false
   },
   "outputs": [
    {
     "data": {
      "text/plain": [
       "datetime.datetime(2014, 4, 7, 17, 59)"
      ]
     },
     "execution_count": 131,
     "metadata": {},
     "output_type": "execute_result"
    }
   ],
   "source": [
    "from datetime import datetime\n",
    "\n",
    "start_string = '{}/{}/{} {}:{}'.format(data_new.iloc[0, 6], \n",
    "                                      data_new.iloc[0, 5], data_new.iloc[0, 7], int(data_new.iloc[0, 11]), \n",
    "                                      int(data_new.iloc[0, 12]))\n",
    "start_time = datetime.strptime(start_string, '%m/%d/%Y %H:%M')\n",
    "start_time"
   ]
  },
  {
   "cell_type": "markdown",
   "metadata": {},
   "source": [
    "**Remark**: When we use datetime.strptime, we should make sure all inputs are integers."
   ]
  },
  {
   "cell_type": "markdown",
   "metadata": {},
   "source": [
    "Since each element of the time data is a sparate item in our dataset, we could also natively create Python datetime objects without using `strptime`."
   ]
  },
  {
   "cell_type": "code",
   "execution_count": 135,
   "metadata": {
    "collapsed": false
   },
   "outputs": [
    {
     "data": {
      "text/plain": [
       "datetime.datetime(2014, 4, 7, 18, 7)"
      ]
     },
     "execution_count": 135,
     "metadata": {},
     "output_type": "execute_result"
    }
   ],
   "source": [
    "end_time = datetime(data_new.iloc[0, 7], data_new.iloc[0, 6], data_new.iloc[0, 5], \n",
    "                    int(data_new.iloc[0, 13]), int(data_new.iloc[0, 14]))\n",
    "end_time"
   ]
  },
  {
   "cell_type": "markdown",
   "metadata": {},
   "source": [
    "**Remark**: the order of inputs for `datetime` should be year, month, day, hour and minute."
   ]
  },
  {
   "cell_type": "markdown",
   "metadata": {},
   "source": [
    "Now we can get some information from date data."
   ]
  },
  {
   "cell_type": "code",
   "execution_count": 138,
   "metadata": {
    "collapsed": false
   },
   "outputs": [
    {
     "name": "stdout",
     "output_type": "stream",
     "text": [
      "0:08:00\n"
     ]
    }
   ],
   "source": [
    "duration = end_time - start_time\n",
    "print(duration)"
   ]
  },
  {
   "cell_type": "code",
   "execution_count": 140,
   "metadata": {
    "collapsed": false
   },
   "outputs": [
    {
     "name": "stdout",
     "output_type": "stream",
     "text": [
      "0\n"
     ]
    }
   ],
   "source": [
    "print(duration.days)"
   ]
  },
  {
   "cell_type": "code",
   "execution_count": 141,
   "metadata": {
    "collapsed": false
   },
   "outputs": [
    {
     "name": "stdout",
     "output_type": "stream",
     "text": [
      "480.0\n"
     ]
    }
   ],
   "source": [
    "print(duration.total_seconds()) #It is equivalent to directly type `duration`."
   ]
  },
  {
   "cell_type": "code",
   "execution_count": 142,
   "metadata": {
    "collapsed": false
   },
   "outputs": [
    {
     "data": {
      "text/plain": [
       "8.0"
      ]
     },
     "execution_count": 142,
     "metadata": {},
     "output_type": "execute_result"
    }
   ],
   "source": [
    "minutes = duration.total_seconds()/60.0\n",
    "minutes"
   ]
  },
  {
   "cell_type": "markdown",
   "metadata": {},
   "source": [
    "Present the date in a human-readable way:"
   ]
  },
  {
   "cell_type": "code",
   "execution_count": 143,
   "metadata": {
    "collapsed": false
   },
   "outputs": [
    {
     "name": "stdout",
     "output_type": "stream",
     "text": [
      "04/07/2014 18:07:00\n"
     ]
    }
   ],
   "source": [
    "print(end_time.strftime('%m/%d/%Y %H:%M:%S'))"
   ]
  },
  {
   "cell_type": "code",
   "execution_count": 144,
   "metadata": {
    "collapsed": false
   },
   "outputs": [
    {
     "name": "stdout",
     "output_type": "stream",
     "text": [
      "Mon Apr  7 17:59:00 2014\n"
     ]
    }
   ],
   "source": [
    "print(start_time.ctime())   #C's ctime standard"
   ]
  },
  {
   "cell_type": "code",
   "execution_count": 150,
   "metadata": {
    "collapsed": false
   },
   "outputs": [
    {
     "name": "stdout",
     "output_type": "stream",
     "text": [
      "2014-04-07T17:59:00\n"
     ]
    }
   ],
   "source": [
    "print(start_time.strftime('%Y-%m-%dT%H:%M:%S'))  #PHP format"
   ]
  },
  {
   "cell_type": "markdown",
   "metadata": {},
   "source": [
    "## Finding bad data"
   ]
  },
  {
   "cell_type": "markdown",
   "metadata": {},
   "source": [
    "### Finding NA in each column"
   ]
  },
  {
   "cell_type": "markdown",
   "metadata": {},
   "source": [
    "Firstly, let's check how many NA or NONE value data in each column."
   ]
  },
  {
   "cell_type": "code",
   "execution_count": 212,
   "metadata": {
    "collapsed": true
   },
   "outputs": [],
   "source": [
    "num_na = np.sum(data_new.isnull())"
   ]
  },
  {
   "cell_type": "code",
   "execution_count": 217,
   "metadata": {
    "collapsed": false
   },
   "outputs": [
    {
     "data": {
      "text/plain": [
       "count     150.000000\n",
       "mean     3868.420000\n",
       "std      3233.806999\n",
       "min         0.000000\n",
       "25%      1094.000000\n",
       "50%      2931.000000\n",
       "75%      6782.000000\n",
       "max      9008.000000\n",
       "dtype: float64"
      ]
     },
     "execution_count": 217,
     "metadata": {},
     "output_type": "execute_result"
    }
   ],
   "source": [
    "num_na.describe()"
   ]
  },
  {
   "cell_type": "markdown",
   "metadata": {},
   "source": [
    "Check data types."
   ]
  },
  {
   "cell_type": "code",
   "execution_count": 219,
   "metadata": {
    "collapsed": false
   },
   "outputs": [
    {
     "data": {
      "text/plain": [
       "Cluster number      int64\n",
       "HH2                 int64\n",
       "LN                  int64\n",
       "MWM1                int64\n",
       "MWM2                int64\n",
       "MWM4                int64\n",
       "MWM5                int64\n",
       "MWM6D               int64\n",
       "MWM6M               int64\n",
       "MWM6Y               int64\n",
       "MWM7               object\n",
       "MWM8                int64\n",
       "MWM9                int64\n",
       "MWM10H            float64\n",
       "MWM10M            float64\n",
       "MWM11H            float64\n",
       "MWM11M            float64\n",
       "MWB1M             float64\n",
       "MWB1Y             float64\n",
       "MWB2              float64\n",
       "MWB3               object\n",
       "MWB4               object\n",
       "MWB5              float64\n",
       "MWB7               object\n",
       "MMT2               object\n",
       "MMT3               object\n",
       "MMT4               object\n",
       "MMT6               object\n",
       "MMT7               object\n",
       "MMT8               object\n",
       "                   ...   \n",
       "MTA14              object\n",
       "MTA15             float64\n",
       "MTA16             float64\n",
       "MTA17             float64\n",
       "TNLN              float64\n",
       "TN4                object\n",
       "TN5                object\n",
       "TN6               float64\n",
       "TN8                object\n",
       "TN9                object\n",
       "TN10              float64\n",
       "TN11               object\n",
       "TN12_1            float64\n",
       "TN12_2            float64\n",
       "TN12_3            float64\n",
       "TN12_4            float64\n",
       "HH6                object\n",
       "HH7                object\n",
       "MWDOI               int64\n",
       "MWDOB             float64\n",
       "MWAGE              object\n",
       "MWDOM             float64\n",
       "MWAGEM            float64\n",
       "MWDOBLC           float64\n",
       "MMSTATUS           object\n",
       "MCEB              float64\n",
       "MCSURV            float64\n",
       "MCDEAD            float64\n",
       "wscore            float64\n",
       "windex5             int64\n",
       "dtype: object"
      ]
     },
     "execution_count": 219,
     "metadata": {},
     "output_type": "execute_result"
    }
   ],
   "source": [
    "data_new.dtypes"
   ]
  },
  {
   "cell_type": "markdown",
   "metadata": {},
   "source": [
    "### Finding duplicates"
   ]
  },
  {
   "cell_type": "markdown",
   "metadata": {},
   "source": [
    "For `DataFrame`, we can use `pd.duplicated()`. This can check all rows, if two rows are exactly same it outputs True.\n",
    "\n",
    "We can delete redundant dulicates by `.drop_duplicates()`."
   ]
  },
  {
   "cell_type": "code",
   "execution_count": 222,
   "metadata": {
    "collapsed": false
   },
   "outputs": [
    {
     "data": {
      "text/plain": [
       "0"
      ]
     },
     "execution_count": 222,
     "metadata": {},
     "output_type": "execute_result"
    }
   ],
   "source": [
    "sum(data_new.duplicated())"
   ]
  },
  {
   "cell_type": "markdown",
   "metadata": {},
   "source": [
    "### Fuzzy match"
   ]
  },
  {
   "cell_type": "markdown",
   "metadata": {},
   "source": [
    "Sometimes, we want to treat \"My dog & I\" and \"me and my dog\" as same. We can apply fuzzywuzzy package to do this."
   ]
  },
  {
   "cell_type": "code",
   "execution_count": 226,
   "metadata": {
    "collapsed": false
   },
   "outputs": [
    {
     "name": "stderr",
     "output_type": "stream",
     "text": [
      "/Users/newuser/anaconda/lib/python3.5/site-packages/fuzzywuzzy/fuzz.py:35: UserWarning: Using slow pure-python SequenceMatcher. Install python-Levenshtein to remove this warning\n",
      "  warnings.warn('Using slow pure-python SequenceMatcher. Install python-Levenshtein to remove this warning')\n"
     ]
    }
   ],
   "source": [
    "from fuzzywuzzy import fuzz"
   ]
  },
  {
   "cell_type": "code",
   "execution_count": 227,
   "metadata": {
    "collapsed": false
   },
   "outputs": [
    {
     "data": {
      "text/plain": [
       "100"
      ]
     },
     "execution_count": 227,
     "metadata": {},
     "output_type": "execute_result"
    }
   ],
   "source": [
    "a = DataFrame([[1,2],[3,4]])\n",
    "fuzz.ratio(a, a)"
   ]
  },
  {
   "cell_type": "markdown",
   "metadata": {},
   "source": [
    "There are many other options for fuzzywuzzy package:\n",
    "\n",
    "1. `fuzz.token_sort_ratio`: ignore the word order. E.g. \"dog vs. cat\" and \"cat vs. dog\".\n",
    "2. `process`: find best match."
   ]
  },
  {
   "cell_type": "code",
   "execution_count": 230,
   "metadata": {
    "collapsed": false
   },
   "outputs": [
    {
     "data": {
      "text/plain": [
       "[('Yes', 45), ('Maybe', 45)]"
      ]
     },
     "execution_count": 230,
     "metadata": {},
     "output_type": "execute_result"
    }
   ],
   "source": [
    "from fuzzywuzzy import process\n",
    "choices = ['Yes', 'No', 'Maybe', 'N/A']\n",
    "process.extract('ya', choices, limit = 2) #Find two best matches"
   ]
  },
  {
   "cell_type": "code",
   "execution_count": 231,
   "metadata": {
    "collapsed": false
   },
   "outputs": [
    {
     "data": {
      "text/plain": [
       "('Yes', 45)"
      ]
     },
     "execution_count": 231,
     "metadata": {},
     "output_type": "execute_result"
    }
   ],
   "source": [
    "process.extractOne('ya', choices)"
   ]
  },
  {
   "cell_type": "markdown",
   "metadata": {},
   "source": [
    "### Regular expressions match"
   ]
  },
  {
   "cell_type": "code",
   "execution_count": null,
   "metadata": {
    "collapsed": true
   },
   "outputs": [],
   "source": []
  }
 ],
 "metadata": {
  "kernelspec": {
   "display_name": "Python 3",
   "language": "python",
   "name": "python3"
  },
  "language_info": {
   "codemirror_mode": {
    "name": "ipython",
    "version": 3
   },
   "file_extension": ".py",
   "mimetype": "text/x-python",
   "name": "python",
   "nbconvert_exporter": "python",
   "pygments_lexer": "ipython3",
   "version": "3.5.1"
  }
 },
 "nbformat": 4,
 "nbformat_minor": 0
}
